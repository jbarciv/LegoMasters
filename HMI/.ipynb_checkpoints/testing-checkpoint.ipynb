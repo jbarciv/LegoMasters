{
 "cells": [
  {
   "cell_type": "code",
   "execution_count": 62,
   "id": "01a270e2-1325-4899-99fe-0e4bf994f9f4",
   "metadata": {},
   "outputs": [],
   "source": [
    "import glob\n",
    "import os\n",
    "import json\n",
    "import pickle\n",
    "import numpy as np"
   ]
  },
  {
   "cell_type": "code",
   "execution_count": 47,
   "id": "e3c333a4-3fea-491e-885f-c0be76285ef7",
   "metadata": {},
   "outputs": [
    {
     "name": "stdout",
     "output_type": "stream",
     "text": [
      "['./demos/demo_1.png', './demos/demo_2.png', './demos/demo_3.png', './demos/demo_4.png', './demos/demo_5.png', './demos/demo_6.png', './demos/demo_7.png', './demos/demo_8.png', './demos/demo_9.png']\n"
     ]
    }
   ],
   "source": [
    "backup_folder = \"./backup\"\n",
    "demos_folder = \"./demos\"\n",
    "png_files = glob.glob(os.path.join(backup_folder, \"*.png\"))\n",
    "demos_files = glob.glob(os.path.join(demos_folder, \"*.png\"))\n",
    "load_images = []\n",
    "num_png_files = len(png_files)\n",
    "if num_png_files >= 9:\n",
    "    load_images = png_files[-9:]\n",
    "elif num_png_files < 9:\n",
    "    load_images = png_files\n",
    "    the_rest = 9 - num_png_files\n",
    "    load_images = load_images + demos_files[-the_rest:]\n",
    "\n",
    "    \n",
    "load_images.sort()\n",
    "print(load_images)"
   ]
  },
  {
   "cell_type": "code",
   "execution_count": 48,
   "id": "23288511-c54d-4f08-8878-a164cfa37ea5",
   "metadata": {},
   "outputs": [
    {
     "name": "stdout",
     "output_type": "stream",
     "text": [
      "./demos/demo_1.json\n"
     ]
    }
   ],
   "source": [
    "json_path = load_images[0][:-3]+\"json\"\n",
    "print(json_path)"
   ]
  },
  {
   "cell_type": "code",
   "execution_count": 49,
   "id": "2dd1f56c-2aff-4f23-962f-93024d1d7231",
   "metadata": {},
   "outputs": [
    {
     "name": "stdout",
     "output_type": "stream",
     "text": [
      "[\n",
      "    [156, 327, 59, 23, [1, 1], [252, 123, 2], \"orange\"],\n",
      "    [246, 327, 57, 21, [2, 1], [243, 237, 231], \"white\"],\n",
      "    [333, 327, 59, 23, [3, 1], [200, 22, 19], \"red\"],\n",
      "    [419, 327, 57, 21, [4, 1], [252, 201, 32], \"yellow\"],\n",
      "    [156, 270, 59, 22, [1, 2], [251, 191, 43], \"yellow\"],\n",
      "    [246, 270, 56, 37, [2, 2], [245, 244, 250], \"white\"],\n",
      "    [333, 270, 57, 22, [3, 2], [45, 192, 222], \"blue\"],\n",
      "    [419, 270, 59, 24, [4, 2], [190, 207, 66], \"green\"],\n",
      "    [156, 221, 57, 23, [1, 3], [176, 191, 46], \"green\"],\n",
      "    [419, 221, 57, 22, [4, 3], [190, 207, 66], \"green\"],\n",
      "    [156, 168, 58, 22, [1, 4], [45, 200, 237], \"blue\"],\n",
      "    [419, 168, 68, 23, [4, 4], [244, 50, 43], \"red\"]\n",
      "]\n"
     ]
    }
   ],
   "source": [
    "with open(json_path, 'r') as file:\n",
    "    file_content = file.read()\n",
    "    print(file_content)"
   ]
  },
  {
   "cell_type": "code",
   "execution_count": 50,
   "id": "cfd19e4a-fe0a-45e9-92e5-1ba68e968fa7",
   "metadata": {},
   "outputs": [
    {
     "name": "stdout",
     "output_type": "stream",
     "text": [
      "['./backup/1.json']\n"
     ]
    }
   ],
   "source": [
    "num=1\n",
    "json_path = glob.glob(os.path.join(backup_folder, str(num)+\".json\"))\n",
    "print(json_path)"
   ]
  },
  {
   "cell_type": "code",
   "execution_count": 74,
   "id": "bcf4b4ae-6e6d-4c6e-b548-6d1ff248c902",
   "metadata": {},
   "outputs": [],
   "source": [
    "my_legos_ord = [[174, 339, 73, 38, [1, 1], [254, 161, 8], 'orange'], [277, 339, 71, 30, [2, 1], [253, 244, 45], 'yellow'], [378, 339, 68, 30, [3, 1], [190, 207, 66], 'green'], [480, 339, 66, 29, [4, 1], [241, 37, 24], 'red'], [174, 282, 72, 30, [1, 2], [202, 216, 51], 'green'], [277, 282, 70, 29, [2, 2], [56, 213, 253], 'blue'], [378, 282, 69, 28, [3, 2], [56, 213, 253], 'blue'], [480, 282, 66, 29, [4, 2], [241, 37, 24], 'red']]"
   ]
  },
  {
   "cell_type": "code",
   "execution_count": 75,
   "id": "fa24112a-d588-4804-95ff-8766672ac10b",
   "metadata": {},
   "outputs": [
    {
     "name": "stdout",
     "output_type": "stream",
     "text": [
      "[[252, 123, 'orange'], [243, 237, 'white'], [200, 22, 'red'], [252, 201, 'yellow'], [251, 191, 'yellow'], [245, 244, 'white'], [45, 192, 'blue'], [190, 207, 'green'], [176, 191, 'green'], [190, 207, 'green'], [45, 200, 'blue'], [244, 50, 'red']]\n"
     ]
    }
   ],
   "source": [
    "legos_to_json = []\n",
    "for (x,y,w,h, _, pos, label) in my_legos_ord:\n",
    "    legos_to_json.append([pos[0], pos[1], label])\n",
    "print(legos_to_json)"
   ]
  },
  {
   "cell_type": "code",
   "execution_count": 76,
   "id": "7e201477-7368-43d3-893e-33b72cc66310",
   "metadata": {},
   "outputs": [],
   "source": [
    "with open(\"example.json\", \"w\") as f:   \n",
    "    json.dump(legos_to_json, f)\n",
    "    \n",
    "with open(\"example.json\", \"r\") as f:   \n",
    "    legos = json.load(f)"
   ]
  },
  {
   "cell_type": "code",
   "execution_count": 72,
   "id": "470f0593-26a9-4656-b950-0fef7a9f3fab",
   "metadata": {},
   "outputs": [
    {
     "data": {
      "text/plain": [
       "[[252, 123, 'orange'],\n",
       " [243, 237, 'white'],\n",
       " [200, 22, 'red'],\n",
       " [252, 201, 'yellow'],\n",
       " [251, 191, 'yellow'],\n",
       " [245, 244, 'white'],\n",
       " [45, 192, 'blue'],\n",
       " [190, 207, 'green'],\n",
       " [176, 191, 'green'],\n",
       " [190, 207, 'green'],\n",
       " [45, 200, 'blue'],\n",
       " [244, 50, 'red']]"
      ]
     },
     "execution_count": 72,
     "metadata": {},
     "output_type": "execute_result"
    }
   ],
   "source": [
    "legos"
   ]
  },
  {
   "cell_type": "code",
   "execution_count": 73,
   "id": "af63a890-1194-4b96-a349-fcaf17a08115",
   "metadata": {},
   "outputs": [
    {
     "data": {
      "text/plain": [
       "[252, 123, 'orange']"
      ]
     },
     "execution_count": 73,
     "metadata": {},
     "output_type": "execute_result"
    }
   ],
   "source": [
    "legos[0]"
   ]
  },
  {
   "cell_type": "code",
   "execution_count": null,
   "id": "43cba007-25be-4d57-83d4-2390bad6feb0",
   "metadata": {},
   "outputs": [],
   "source": []
  }
 ],
 "metadata": {
  "kernelspec": {
   "display_name": "Python 3 (ipykernel)",
   "language": "python",
   "name": "python3"
  },
  "language_info": {
   "codemirror_mode": {
    "name": "ipython",
    "version": 3
   },
   "file_extension": ".py",
   "mimetype": "text/x-python",
   "name": "python",
   "nbconvert_exporter": "python",
   "pygments_lexer": "ipython3",
   "version": "3.8.10"
  }
 },
 "nbformat": 4,
 "nbformat_minor": 5
}
