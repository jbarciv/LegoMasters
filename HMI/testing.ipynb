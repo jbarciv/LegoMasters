{
 "cells": [
  {
   "cell_type": "code",
   "execution_count": 10,
   "id": "9e134427-4411-46aa-a6c6-983bed1b0664",
   "metadata": {},
   "outputs": [],
   "source": []
  },
  {
   "cell_type": "code",
   "execution_count": 16,
   "id": "3328fc51-97a9-42a0-87ce-79ffe6c60adb",
   "metadata": {},
   "outputs": [
    {
     "name": "stdout",
     "output_type": "stream",
     "text": [
      "[6, 3, 5, 1, 2]\n",
      "[1, 2, 3, 5, 6]\n"
     ]
    }
   ],
   "source": [
    "tmp_json = ['./tmp/6.json', './tmp/3.json', './tmp/5.json', './tmp/1.json', './tmp/2.json']\n",
    "i = 0\n",
    "for item in tmp_json:\n",
    "    tmp_json[i] = int(item[6:-5])\n",
    "    i+=1\n",
    "print(tmp_json)\n",
    "tmp_json.sort()\n",
    "print(tmp_json)"
   ]
  },
  {
   "cell_type": "code",
   "execution_count": null,
   "id": "33a5fbbd-7b40-44fd-a646-cc8b97ffc3c9",
   "metadata": {},
   "outputs": [],
   "source": []
  }
 ],
 "metadata": {
  "kernelspec": {
   "display_name": "Python 3 (ipykernel)",
   "language": "python",
   "name": "python3"
  },
  "language_info": {
   "codemirror_mode": {
    "name": "ipython",
    "version": 3
   },
   "file_extension": ".py",
   "mimetype": "text/x-python",
   "name": "python",
   "nbconvert_exporter": "python",
   "pygments_lexer": "ipython3",
   "version": "3.8.10"
  }
 },
 "nbformat": 4,
 "nbformat_minor": 5
}
